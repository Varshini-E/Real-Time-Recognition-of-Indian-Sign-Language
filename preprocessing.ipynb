{
 "cells": [
  {
   "cell_type": "code",
   "execution_count": null,
   "metadata": {},
   "outputs": [],
   "source": [
    "import cv2\n",
    "import numpy as np\n",
    "import matplotlib.pyplot as plt\n",
    "import tensorflow as tf\n",
    "import os"
   ]
  },
  {
   "cell_type": "code",
   "execution_count": null,
   "metadata": {},
   "outputs": [],
   "source": [
    "ini_path=\"train_dataset\"\n",
    "for (dirpath,dirnames,filenames) in os.walk(ini_path):\n",
    "    for dirname in dirnames:\n",
    "            for(direcpath,direcnames,files) in os.walk(ini_path+\"\\\\\"+dirname):\n",
    "                i=0\n",
    "                for file in files:\n",
    "                        \n",
    "                    actual_path=ini_path+\"\\\\\\\\\"+dirname+\"\\\\\\\\\"+file\n",
    "        \n",
    "                    frame = cv2.imread(actual_path)\n",
    "                    frame = cv2.resize(frame,(64,64))\n",
    "                    \n",
    "                    converted = cv2.cvtColor(frame, cv2.COLOR_BGR2HSV) # Convert from RGB to HSV\n",
    "\n",
    "                    lowerBoundary = np.array([0,40,30],dtype=\"uint8\")\n",
    "                    upperBoundary = np.array([43,255,254],dtype=\"uint8\")\n",
    "\n",
    "                    skinMask = cv2.inRange(converted, lowerBoundary, upperBoundary)\n",
    "\n",
    "                    skinMask = cv2.medianBlur(skinMask, 5)\n",
    "                    skin = cv2.bitwise_and(frame, frame, mask = skinMask)\n",
    "                    \n",
    "                    bw_image = cv2.cvtColor(skin, cv2.COLOR_HSV2BGR)  \n",
    "                    bw_image = cv2.cvtColor(skin, cv2.COLOR_BGR2GRAY)  \n",
    "                    bw_image = cv2.GaussianBlur(bw_image,(5,5),0)  \n",
    "                    \n",
    "                    if(i%5==0):\n",
    "                        directory=\"test_processed\"\n",
    "                    else:\n",
    "                        directory=\"train_processed\"\n",
    "                    \n",
    "                    path = directory+\"\\\\\\\\\"+dirname+\"\\\\\\\\\"\n",
    "                    curr_path=path+file\n",
    "                    cv2.imwrite(curr_path, bw_image)\n",
    "                    i=i+1"
   ]
  }
 ],
 "metadata": {
  "kernelspec": {
   "display_name": "Python 3",
   "language": "python",
   "name": "python3"
  },
  "language_info": {
   "codemirror_mode": {
    "name": "ipython",
    "version": 3
   },
   "file_extension": ".py",
   "mimetype": "text/x-python",
   "name": "python",
   "nbconvert_exporter": "python",
   "pygments_lexer": "ipython3",
   "version": "3.7.9"
  }
 },
 "nbformat": 4,
 "nbformat_minor": 4
}
